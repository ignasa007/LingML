{
 "cells": [
  {
   "cell_type": "code",
   "execution_count": 33,
   "metadata": {},
   "outputs": [],
   "source": [
    "from itertools import product\n",
    "from tqdm import tqdm\n",
    "\n",
    "from sklearn import clone\n",
    "from sklearn.svm import SVC\n",
    "from sklearn.tree import DecisionTreeClassifier, export_text, plot_tree\n",
    "from sklearn.ensemble import RandomForestClassifier\n",
    "from xgboost import XGBClassifier\n",
    "from sklearn.metrics import accuracy_score\n",
    "import matplotlib.pyplot as plt\n",
    "\n",
    "from data_classes import ConstraintAppended"
   ]
  },
  {
   "cell_type": "code",
   "execution_count": 67,
   "metadata": {},
   "outputs": [
    {
     "name": "stdout",
     "output_type": "stream",
     "text": [
      "train_df.shape = (6420, 20)\n",
      "val_df.shape = (2140, 20)\n",
      "test_df.shape = (2140, 20)\n",
      "columns:\n",
      "    0. tweet\n",
      "    1. label\n",
      "    2. WPS\n",
      "    3. allnone\n",
      "    4. cause\n",
      "    5. discrep\n",
      "    6. certitude\n",
      "    7. tone_pos\n",
      "    8. tone_neg\n",
      "    9. swear\n",
      "    10. Perception\n",
      "    11. motion\n",
      "    12. space\n",
      "    13. auditory\n",
      "    14. feeling\n",
      "    15. Conversation\n",
      "    16. netspeak\n",
      "    17. assent\n",
      "    18. QMark\n",
      "    19. Exclam\n"
     ]
    }
   ],
   "source": [
    "dfs = ConstraintAppended(f'./datasets/aaai-constraint-covid-appended', train_pct=60, valid_pct=20)\n",
    "splits = ('train', 'val', 'test')\n",
    "\n",
    "print(\n",
    "    *(f'{split}_df.shape = {dfs[split].shape}' for split in dfs), \n",
    "    'columns:', *(f'    {i}. {c}' for i, c in enumerate(dfs['train'].columns)), \n",
    "    sep='\\n',\n",
    ")"
   ]
  },
  {
   "cell_type": "code",
   "execution_count": 68,
   "metadata": {},
   "outputs": [
    {
     "name": "stdout",
     "output_type": "stream",
     "text": [
      "train_df.shape = (6420, 19)\n",
      "val_df.shape = (2140, 19)\n",
      "test_df.shape = (2140, 19)\n",
      "columns:\n",
      "    0. wps\n",
      "    1. allnone\n",
      "    2. cause\n",
      "    3. discrep\n",
      "    4. certitude\n",
      "    5. tone_pos\n",
      "    6. tone_neg\n",
      "    7. swear\n",
      "    8. perception\n",
      "    9. motion\n",
      "    10. space\n",
      "    11. auditory\n",
      "    12. feeling\n",
      "    13. conversation\n",
      "    14. netspeak\n",
      "    15. assent\n",
      "    16. qmark\n",
      "    17. exclam\n",
      "    18. label\n"
     ]
    }
   ],
   "source": [
    "for split in splits:\n",
    "    dfs[split] = dfs[split].drop(['tweet'], axis=1)\n",
    "    dfs[split] = dfs[split].rename(columns={x: x.lower() for x in dfs[split].columns})\n",
    "    columns = dfs[split].columns.tolist()\n",
    "    dfs[split] = dfs[split][columns[1:]+[columns[0]]]\n",
    "\n",
    "mean, std = dfs['train'].values[:, :-1].mean(), dfs['train'].values[:, :-1].std()\n",
    "for split in splits:\n",
    "    dfs[split].iloc[:, :-1] = (dfs[split].iloc[:, :-1] - mean) / (std + 1e-6)\n",
    "\n",
    "print(\n",
    "    *(f'{split}_df.shape = {dfs[split].shape}' for split in splits), \n",
    "    'columns:', *(f'    {i}. {c}' for i, c in enumerate(dfs['train'].columns)), \n",
    "    sep='\\n',\n",
    ")"
   ]
  },
  {
   "cell_type": "code",
   "execution_count": 69,
   "metadata": {},
   "outputs": [],
   "source": [
    "def grid_search(model, param_grid):\n",
    "\n",
    "    hparams = list(param_grid.keys())\n",
    "    combinations = product(*[list(param_grid[hparam]) for hparam in hparams])\n",
    "\n",
    "    best_acc = 0.\n",
    "    for comb in tqdm(list(combinations)):\n",
    "        clf = clone(model).set_params(**{hparam: value for hparam, value in zip(hparams, comb)})\n",
    "        clf.fit(dfs['train'].iloc[:, :-1], dfs['train'].iloc[:, -1])\n",
    "        acc = accuracy_score(dfs['val'].iloc[:, -1], clf.predict(dfs['val'].iloc[:, :-1]))\n",
    "        if acc > best_acc:\n",
    "            best_acc, best_comb = acc, comb\n",
    "\n",
    "    print('Best parameters:', *(f'    {k}: {v}' for k, v in zip(hparams, best_comb)), sep='\\n',)\n",
    "\n",
    "    clf = clone(model).set_params(**{hparam: value for hparam, value in zip(hparams, best_comb)})\n",
    "    clf.fit(dfs['train'].iloc[:, :-1], dfs['train'].iloc[:, -1])\n",
    "\n",
    "    print(f\"\\nTraining accuracy: {100 * accuracy_score(dfs['train'].iloc[:, -1], clf.predict(dfs['train'].iloc[:, :-1])):.3f}%\")\n",
    "    print(f\"Validation accuracy: {100 * accuracy_score(dfs['val'].iloc[:, -1], clf.predict(dfs['val'].iloc[:, :-1])):.3f}%\")\n",
    "    print(f\"Testing accuracy: {100 * accuracy_score(dfs['test'].iloc[:, -1], clf.predict(dfs['test'].iloc[:, :-1])):.3f}%\")\n",
    "\n",
    "    return clf"
   ]
  },
  {
   "cell_type": "code",
   "execution_count": 70,
   "metadata": {},
   "outputs": [
    {
     "name": "stderr",
     "output_type": "stream",
     "text": [
      "  0%|          | 0/6 [00:00<?, ?it/s]"
     ]
    },
    {
     "name": "stderr",
     "output_type": "stream",
     "text": [
      "100%|██████████| 6/6 [00:45<00:00,  7.57s/it]\n"
     ]
    },
    {
     "name": "stdout",
     "output_type": "stream",
     "text": [
      "Best parameters:\n",
      "    C: 100\n",
      "    kernel: rbf\n",
      "\n",
      "Training accuracy: 82.773%\n",
      "Validation accuracy: 79.766%\n",
      "Testing accuracy: 79.019%\n"
     ]
    }
   ],
   "source": [
    "model = SVC()\n",
    "param_grid = {\n",
    "    'C': (1, 10, 100,),\n",
    "    'kernel': ('poly', 'rbf',),\n",
    "}\n",
    "\n",
    "clf = grid_search(model=model, param_grid=param_grid)"
   ]
  },
  {
   "cell_type": "code",
   "execution_count": 71,
   "metadata": {},
   "outputs": [
    {
     "name": "stderr",
     "output_type": "stream",
     "text": [
      "100%|██████████| 10/10 [00:00<00:00, 34.33it/s]"
     ]
    },
    {
     "name": "stdout",
     "output_type": "stream",
     "text": [
      "Best parameters:\n",
      "    criterion: entropy\n",
      "    max_depth: 7\n",
      "\n",
      "Training accuracy: 81.293%\n",
      "Validation accuracy: 79.626%\n",
      "Testing accuracy: 78.458%\n"
     ]
    },
    {
     "name": "stderr",
     "output_type": "stream",
     "text": [
      "\n"
     ]
    }
   ],
   "source": [
    "model = DecisionTreeClassifier()\n",
    "param_grid = {\n",
    "    'criterion': ('gini', 'entropy',),\n",
    "    'max_depth': (5, 6, 7, 8, 9,),\n",
    "}\n",
    "\n",
    "clf = grid_search(model=model, param_grid=param_grid)"
   ]
  },
  {
   "cell_type": "code",
   "execution_count": 72,
   "metadata": {},
   "outputs": [
    {
     "name": "stdout",
     "output_type": "stream",
     "text": [
      "Training accuracy: 70.950%\n",
      "Validation accuracy: 71.402%\n",
      "Testing accuracy: 71.636%\n",
      "\n",
      "|--- feeling <= -0.17\n",
      "|   |--- certitude <= -0.12\n",
      "|   |   |--- class: 0\n",
      "|   |--- certitude >  -0.12\n",
      "|   |   |--- class: 0\n",
      "|--- feeling >  -0.17\n",
      "|   |--- tone_pos <= 0.37\n",
      "|   |   |--- class: 1\n",
      "|   |--- tone_pos >  0.37\n",
      "|   |   |--- class: 1\n",
      "\n"
     ]
    },
    {
     "data": {
      "image/png": "[encoded data removed]",
      "text/plain": [
       "<Figure size 800x600 with 1 Axes>"
      ]
     },
     "metadata": {},
     "output_type": "display_data"
    }
   ],
   "source": [
    "model.set_params(criterion='entropy', max_depth=2)\n",
    "model.fit(dfs['train'].iloc[:, :-1], dfs['train'].iloc[:, -1],)\n",
    "\n",
    "print(f\"Training accuracy: {100 * accuracy_score(model.predict(dfs['train'].iloc[:, :-1]), dfs['train'].iloc[:, -1]):.3f}%\")\n",
    "print(f\"Validation accuracy: {100 * accuracy_score(model.predict(dfs['val'].iloc[:, :-1]), dfs['val'].iloc[:, -1]):.3f}%\")\n",
    "print(f\"Testing accuracy: {100 * accuracy_score(model.predict(dfs['test'].iloc[:, :-1]), dfs['test'].iloc[:, -1]):.3f}%\\n\")\n",
    "\n",
    "print(export_text(model, feature_names=columns[:-1])) #, class_names=['fake', 'real']))\n",
    "\n",
    "fig = plt.figure(figsize=(8, 6))\n",
    "_ = plot_tree(model, feature_names=columns[:-1], class_names=['fake', 'real'], filled=True)"
   ]
  },
  {
   "cell_type": "code",
   "execution_count": 75,
   "metadata": {},
   "outputs": [
    {
     "name": "stderr",
     "output_type": "stream",
     "text": [
      "100%|██████████| 4/4 [00:04<00:00,  1.15s/it]\n"
     ]
    },
    {
     "name": "stdout",
     "output_type": "stream",
     "text": [
      "Best parameters:\n",
      "    n_estimators: 150\n",
      "\n",
      "Training accuracy: 98.333%\n",
      "Validation accuracy: 81.355%\n",
      "Testing accuracy: 81.308%\n"
     ]
    }
   ],
   "source": [
    "model = RandomForestClassifier(criterion='entropy')\n",
    "param_grid = {\n",
    "    'n_estimators': (50, 100, 150, 200,),\n",
    "}\n",
    "\n",
    "clf = grid_search(model=model, param_grid=param_grid)"
   ]
  },
  {
   "cell_type": "code",
   "execution_count": 74,
   "metadata": {},
   "outputs": [
    {
     "name": "stderr",
     "output_type": "stream",
     "text": [
      "100%|██████████| 2/2 [00:00<00:00,  3.22it/s]\n"
     ]
    },
    {
     "name": "stdout",
     "output_type": "stream",
     "text": [
      "Best parameters:\n",
      "    booster: gbtree\n",
      "\n",
      "Training accuracy: 92.539%\n",
      "Validation accuracy: 80.981%\n",
      "Testing accuracy: 81.729%\n"
     ]
    }
   ],
   "source": [
    "model = XGBClassifier()\n",
    "param_grid = {\n",
    "    'booster': ('gbtree', 'gblinear',),\n",
    "}\n",
    "\n",
    "clf = grid_search(model=model, param_grid=param_grid)"
   ]
  },
  {
   "cell_type": "code",
   "execution_count": 44,
   "metadata": {},
   "outputs": [],
   "source": [
    "import numpy as np\n",
    "import torch\n",
    "from torch.utils.data import default_collate, TensorDataset, DataLoader\n",
    "from torch.nn import Module, ModuleList, Linear, GELU, Dropout, BCELoss\n",
    "from torch.optim import AdamW\n",
    "from torchmetrics import Accuracy, F1Score"
   ]
  },
  {
   "cell_type": "code",
   "execution_count": 45,
   "metadata": {},
   "outputs": [],
   "source": [
    "def normalize(X_train, *X_other, eps=1e-6):\n",
    "\n",
    "    mean, std = np.mean(X_train, axis=0), np.std(X_train, axis=0)\n",
    "    yield (X_train-mean) / (std+eps)\n",
    "    \n",
    "    for X in X_other:\n",
    "        yield (X-mean) / (std+eps)"
   ]
  },
  {
   "cell_type": "code",
   "execution_count": 50,
   "metadata": {},
   "outputs": [],
   "source": [
    "X_train, y_train = dfs['train'].iloc[:, :-1].values, dfs['train'].iloc[:, -1].values\n",
    "X_val, y_val = dfs['val'].iloc[:, :-1].values, dfs['val'].iloc[:, -1].values\n",
    "X_test, y_test = dfs['test'].iloc[:, :-1].values, dfs['test'].iloc[:, -1].values\n",
    "\n",
    "X_train, X_val, X_test = normalize(X_train, X_val, X_test)\n",
    "\n",
    "train_dataset = TensorDataset(torch.from_numpy(X_train).float(), torch.from_numpy(y_train))\n",
    "val_dataset = TensorDataset(torch.from_numpy(X_val).float(), torch.from_numpy(y_val))\n",
    "test_dataset = TensorDataset(torch.from_numpy(X_test).float(), torch.from_numpy(y_test))\n",
    "\n",
    "train_loader = DataLoader(train_dataset, batch_size=16, collate_fn=default_collate, shuffle=True)\n",
    "val_loader = DataLoader(val_dataset, batch_size=16, collate_fn=default_collate, shuffle=True)\n",
    "test_loader = DataLoader(test_dataset, batch_size=16, collate_fn=default_collate, shuffle=True)"
   ]
  },
  {
   "cell_type": "code",
   "execution_count": 51,
   "metadata": {},
   "outputs": [],
   "source": [
    "class Model(Module):\n",
    "\n",
    "    def __init__(self, input_shape=18, hidden_size=128, layers=4, dropout=0.1):\n",
    "\n",
    "        super(Model, self).__init__()\n",
    "\n",
    "        dense_layers = list()\n",
    "        for in_features, out_features in zip([input_shape]+[hidden_size]*(layers-1), [hidden_size]*(layers-1)+[1]):\n",
    "            dense_layer = Linear(in_features=in_features, out_features=out_features, bias=True)\n",
    "            dense_layers.append(dense_layer)\n",
    "\n",
    "        self.dense_layers = ModuleList(dense_layers)\n",
    "        self.activation = GELU()\n",
    "        self.dropout = Dropout(p=dropout, inplace=False)\n",
    "\n",
    "        self.loss = BCELoss()\n",
    "\n",
    "    def forward(self, x, y):\n",
    "\n",
    "        for dense_layer in self.dense_layers[:-1]:\n",
    "            x = dense_layer(x)\n",
    "            x = self.activation(x)\n",
    "            x = self.dropout(x)\n",
    "        \n",
    "        logits = self.dense_layers[-1](x).squeeze(-1)\n",
    "        probs = torch.sigmoid(logits)\n",
    "        preds = torch.round(probs).detach().cpu()\n",
    "        loss = self.loss(probs, y.float())\n",
    "\n",
    "        return preds, loss\n",
    "    \n",
    "model = Model(input_shape=X_train.shape[-1], hidden_size=128, layers=4, dropout=0.2)\n",
    "optimizer = AdamW(model.parameters(), lr=5e-4)"
   ]
  },
  {
   "cell_type": "code",
   "execution_count": 52,
   "metadata": {},
   "outputs": [
    {
     "name": "stdout",
     "output_type": "stream",
     "text": [
      "Epoch 10\n",
      "Training: Accuracy = 78.2555%, F1-Score = 79.8208%, Loss = 0.455638\n",
      "Validation Accuracy = 78.3645%, F1-Score = 79.7374%, Loss = 0.456037\n",
      "Testing Accuracy = 78.0841%, F1-Score = 79.6529%, Loss = 0.466237\n",
      "\n",
      "Epoch 20\n",
      "Training: Accuracy = 80.0156%, F1-Score = 81.3923%, Loss = 0.433662\n",
      "Validation Accuracy = 79.3925%, F1-Score = 80.8511%, Loss = 0.445436\n",
      "Testing Accuracy = 79.7664%, F1-Score = 81.3442%, Loss = 0.455573\n",
      "\n",
      "Epoch 30\n",
      "Training: Accuracy = 80.7944%, F1-Score = 82.0811%, Loss = 0.414808\n",
      "Validation Accuracy = 80.5607%, F1-Score = 82.0380%, Loss = 0.437543\n",
      "Testing Accuracy = 79.6729%, F1-Score = 81.2903%, Loss = 0.450296\n",
      "\n",
      "Epoch 40\n",
      "Training: Accuracy = 81.9315%, F1-Score = 83.1542%, Loss = 0.398529\n",
      "Validation Accuracy = 80.2804%, F1-Score = 81.7158%, Loss = 0.445489\n",
      "Testing Accuracy = 79.9065%, F1-Score = 81.3853%, Loss = 0.452018\n",
      "\n",
      "Epoch 50\n",
      "Training: Accuracy = 82.7259%, F1-Score = 83.9763%, Loss = 0.382510\n",
      "Validation Accuracy = 80.5140%, F1-Score = 81.7025%, Loss = 0.439197\n",
      "Testing Accuracy = 79.4393%, F1-Score = 80.5654%, Loss = 0.458415\n",
      "\n",
      "Epoch 60\n",
      "Training: Accuracy = 83.6916%, F1-Score = 84.7042%, Loss = 0.370644\n",
      "Validation Accuracy = 81.4019%, F1-Score = 82.6049%, Loss = 0.448086\n",
      "Testing Accuracy = 80.0000%, F1-Score = 81.4075%, Loss = 0.472770\n",
      "\n",
      "Epoch 70\n",
      "Training: Accuracy = 83.5047%, F1-Score = 84.5062%, Loss = 0.365025\n",
      "Validation Accuracy = 81.0748%, F1-Score = 82.1350%, Loss = 0.458644\n",
      "Testing Accuracy = 79.7664%, F1-Score = 81.0004%, Loss = 0.481298\n",
      "\n",
      "Epoch 80\n",
      "Training: Accuracy = 84.0654%, F1-Score = 85.0679%, Loss = 0.359924\n",
      "Validation Accuracy = 81.1215%, F1-Score = 82.0444%, Loss = 0.458326\n",
      "Testing Accuracy = 79.8131%, F1-Score = 80.8341%, Loss = 0.476490\n",
      "\n",
      "Epoch 90\n",
      "Training: Accuracy = 84.4393%, F1-Score = 85.4479%, Loss = 0.343145\n",
      "Validation Accuracy = 81.2617%, F1-Score = 82.2802%, Loss = 0.476196\n",
      "Testing Accuracy = 80.0000%, F1-Score = 81.3100%, Loss = 0.483457\n",
      "\n",
      "Epoch 100\n",
      "Training: Accuracy = 86.1838%, F1-Score = 87.0341%, Loss = 0.324125\n",
      "Validation Accuracy = 80.7477%, F1-Score = 81.9140%, Loss = 0.498764\n",
      "Testing Accuracy = 79.9065%, F1-Score = 81.1072%, Loss = 0.502515\n",
      "\n"
     ]
    }
   ],
   "source": [
    "accuracy, f1_score = Accuracy(task='binary'), F1Score(task='binary')\n",
    "\n",
    "for epoch in range(1, 101):\n",
    "\n",
    "    model.train()\n",
    "    epoch_labels, epoch_preds, epoch_losses = list(), list(), list()\n",
    "    for features, labels in train_loader:\n",
    "        optimizer.zero_grad()\n",
    "        preds, loss = model(features, labels)\n",
    "        loss.backward()\n",
    "        optimizer.step()\n",
    "        epoch_labels.append(labels.detach().cpu()); epoch_preds.append(preds); epoch_losses.append(loss.item())\n",
    "    epoch_labels = torch.cat(epoch_labels); epoch_preds = torch.cat(epoch_preds); mean_loss = np.mean(epoch_losses)\n",
    "\n",
    "    if epoch%10 == 0:\n",
    "        print(f'Epoch {epoch}\\nTraining: Accuracy = {100*accuracy(epoch_preds, epoch_labels).item():.4f}%, F1-Score = {100*f1_score(epoch_preds, epoch_labels).item():.4f}%, Loss = {mean_loss:.6f}')\n",
    "        model.eval()\n",
    "        epoch_labels, epoch_preds, epoch_losses = list(), list(), list()\n",
    "        with torch.no_grad():\n",
    "            for features, labels in val_loader:\n",
    "                preds, loss = model(features, labels)\n",
    "                epoch_labels.append(labels.detach().cpu()); epoch_preds.append(preds); epoch_losses.append(loss.item())\n",
    "        epoch_labels = torch.cat(epoch_labels); epoch_preds = torch.cat(epoch_preds); mean_loss = np.mean(epoch_losses)\n",
    "        print(f'Validation Accuracy = {100*accuracy(epoch_preds, epoch_labels).item():.4f}%, F1-Score = {100*f1_score(epoch_preds, epoch_labels).item():.4f}%, Loss = {mean_loss:.6f}')\n",
    "        epoch_labels, epoch_preds, epoch_losses = list(), list(), list()\n",
    "        with torch.no_grad():\n",
    "            for features, labels in test_loader:\n",
    "                preds, loss = model(features, labels)\n",
    "                epoch_labels.append(labels.detach().cpu()); epoch_preds.append(preds); epoch_losses.append(loss.item())\n",
    "        epoch_labels = torch.cat(epoch_labels); epoch_preds = torch.cat(epoch_preds); mean_loss = np.mean(epoch_losses)\n",
    "        print(f'Testing Accuracy = {100*accuracy(epoch_preds, epoch_labels).item():.4f}%, F1-Score = {100*f1_score(epoch_preds, epoch_labels).item():.4f}%, Loss = {mean_loss:.6f}\\n')"
   ]
  },
  {
   "cell_type": "code",
   "execution_count": null,
   "metadata": {},
   "outputs": [],
   "source": []
  }
 ],
 "metadata": {
  "kernelspec": {
   "display_name": "fakenews",
   "language": "python",
   "name": "python3"
  },
  "language_info": {
   "codemirror_mode": {
    "name": "ipython",
    "version": 3
   },
   "file_extension": ".py",
   "mimetype": "text/x-python",
   "name": "python",
   "nbconvert_exporter": "python",
   "pygments_lexer": "ipython3",
   "version": "3.8.8"
  },
  "orig_nbformat": 4
 },
 "nbformat": 4,
 "nbformat_minor": 2
}
