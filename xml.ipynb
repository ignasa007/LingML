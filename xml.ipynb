{
 "cells": [
  {
   "cell_type": "code",
   "execution_count": 1,
   "metadata": {},
   "outputs": [],
   "source": [
    "import pandas as pd\n",
    "from sklearn.svm import SVC\n",
    "from sklearn.tree import DecisionTreeClassifier, export_text, plot_tree\n",
    "from sklearn.ensemble import RandomForestClassifier\n",
    "from xgboost import XGBClassifier\n",
    "from sklearn.model_selection import GridSearchCV\n",
    "from sklearn.metrics import accuracy_score\n",
    "import matplotlib.pyplot as plt\n",
    "\n",
    "from data_classes import ConstraintAppended"
   ]
  },
  {
   "cell_type": "code",
   "execution_count": 2,
   "metadata": {},
   "outputs": [
    {
     "name": "stdout",
     "output_type": "stream",
     "text": [
      "train_df.shape = (6420, 20)\n",
      "val_df.shape = (2140, 20)\n",
      "test_df.shape = (2140, 20)\n",
      "columns:\n",
      "    0. tweet\n",
      "    1. label\n",
      "    2. WPS\n",
      "    3. allnone\n",
      "    4. cause\n",
      "    5. discrep\n",
      "    6. certitude\n",
      "    7. tone_pos\n",
      "    8. tone_neg\n",
      "    9. swear\n",
      "    10. Perception\n",
      "    11. motion\n",
      "    12. space\n",
      "    13. auditory\n",
      "    14. feeling\n",
      "    15. Conversation\n",
      "    16. netspeak\n",
      "    17. assent\n",
      "    18. QMark\n",
      "    19. Exclam\n"
     ]
    }
   ],
   "source": [
    "dfs = ConstraintAppended(f'./datasets/aaai-constraint-covid-appended', train_pct=80, valid_pct=20)\n",
    "splits = ('train', 'val', 'test')\n",
    "\n",
    "print(\n",
    "    *(f'{split}_df.shape = {dfs[split].shape}' for split in dfs), \n",
    "    'columns:', *(f'    {i}. {c}' for i, c in enumerate(dfs['train'].columns)), \n",
    "    sep='\\n',\n",
    ")"
   ]
  },
  {
   "cell_type": "code",
   "execution_count": 3,
   "metadata": {},
   "outputs": [
    {
     "name": "stdout",
     "output_type": "stream",
     "text": [
      "train_df.shape = (6420, 19)\n",
      "val_df.shape = (2140, 19)\n",
      "test_df.shape = (2140, 19)\n",
      "columns:\n",
      "    0. label\n",
      "    1. wps\n",
      "    2. allnone\n",
      "    3. cause\n",
      "    4. discrep\n",
      "    5. certitude\n",
      "    6. tone_pos\n",
      "    7. tone_neg\n",
      "    8. swear\n",
      "    9. perception\n",
      "    10. motion\n",
      "    11. space\n",
      "    12. auditory\n",
      "    13. feeling\n",
      "    14. conversation\n",
      "    15. netspeak\n",
      "    16. assent\n",
      "    17. qmark\n",
      "    18. exclam\n"
     ]
    }
   ],
   "source": [
    "for split in splits:\n",
    "    dfs[split] = dfs[split].drop(['tweet'], axis=1)\n",
    "    dfs[split] = dfs[split].rename(columns={x: x.lower() for x in dfs[split].columns})\n",
    "    columns = dfs[split].columns.tolist()\n",
    "    dfs[split] = dfs[split][columns[1:]+[columns[0]]]\n",
    "    \n",
    "print(\n",
    "    *(f'{split}_df.shape = {dfs[split].shape}' for split in splits), \n",
    "    'columns:', *(f'    {i}. {c}' for i, c in enumerate(columns)), \n",
    "    sep='\\n',\n",
    ")"
   ]
  },
  {
   "cell_type": "code",
   "execution_count": 4,
   "metadata": {},
   "outputs": [],
   "source": [
    "def grid_search(model, param_grid):\n",
    "\n",
    "    clf = GridSearchCV(estimator=model, param_grid=param_grid, scoring='accuracy', cv=3,)\n",
    "\n",
    "    clf.fit(dfs['train'].iloc[:, :-1], dfs['train'].iloc[:, -1],)\n",
    "    print('Best parameters:', *(f'    {k}: {v}' for k, v in clf.best_params_.items()), sep='\\n',)\n",
    "\n",
    "    print(f\"\\nTraining accuracy: {100 * clf.score(dfs['train'].iloc[:, :-1], dfs['train'].iloc[:, -1]):.3f}%\")\n",
    "    print(f\"Validation accuracy: {100 * clf.score(dfs['val'].iloc[:, :-1], dfs['val'].iloc[:, -1]):.3f}%\")\n",
    "\n",
    "    return clf"
   ]
  },
  {
   "cell_type": "code",
   "execution_count": 5,
   "metadata": {},
   "outputs": [
    {
     "name": "stdout",
     "output_type": "stream",
     "text": [
      "Best parameters:\n",
      "    C: 100\n",
      "    kernel: rbf\n",
      "\n",
      "Training accuracy: 82.773%\n",
      "Validation accuracy: 79.766%\n"
     ]
    }
   ],
   "source": [
    "model = SVC()\n",
    "param_grid = {\n",
    "    'C': (1, 10, 100,),\n",
    "    'kernel': ('poly', 'rbf',),\n",
    "}\n",
    "\n",
    "clf = grid_search(model=model, param_grid=param_grid)"
   ]
  },
  {
   "cell_type": "code",
   "execution_count": 6,
   "metadata": {},
   "outputs": [
    {
     "name": "stdout",
     "output_type": "stream",
     "text": [
      "Best parameters:\n",
      "    criterion: entropy\n",
      "    max_depth: 7\n",
      "\n",
      "Training accuracy: 81.293%\n",
      "Validation accuracy: 79.626%\n"
     ]
    }
   ],
   "source": [
    "model = DecisionTreeClassifier(splitter='best')\n",
    "param_grid = {\n",
    "    'criterion': ('gini', 'entropy',),\n",
    "    'max_depth': (5, 6, 7, 8, 9,),\n",
    "}\n",
    "\n",
    "clf = grid_search(model=model, param_grid=param_grid)"
   ]
  },
  {
   "cell_type": "code",
   "execution_count": 7,
   "metadata": {},
   "outputs": [
    {
     "name": "stdout",
     "output_type": "stream",
     "text": [
      "Training accuracy: 70.950%\n",
      "Validation accuracy: 71.402%\n",
      "\n",
      "|--- feeling <= 1.60\n",
      "|   |--- certitude <= 1.90\n",
      "|   |   |--- class: fake\n",
      "|   |--- certitude >  1.90\n",
      "|   |   |--- class: fake\n",
      "|--- feeling >  1.60\n",
      "|   |--- tone_pos <= 4.71\n",
      "|   |   |--- class: real\n",
      "|   |--- tone_pos >  4.71\n",
      "|   |   |--- class: real\n",
      "\n"
     ]
    },
    {
     "data": {
      "image/png": "[encoded data removed]",
      "text/plain": [
       "<Figure size 800x600 with 1 Axes>"
      ]
     },
     "metadata": {},
     "output_type": "display_data"
    }
   ],
   "source": [
    "model.set_params(criterion='entropy', max_depth=2)\n",
    "model.fit(dfs['train'].iloc[:, :-1], dfs['train'].iloc[:, -1],)\n",
    "\n",
    "print(f\"Training accuracy: {100 * accuracy_score(model.predict(dfs['train'].iloc[:, :-1]), dfs['train'].iloc[:, -1]):.3f}%\")\n",
    "print(f\"Validation accuracy: {100 * accuracy_score(model.predict(dfs['val'].iloc[:, :-1]), dfs['val'].iloc[:, -1]):.3f}%\\n\")\n",
    "\n",
    "print(export_text(model, feature_names=columns[:-1], class_names=['fake', 'real']))\n",
    "\n",
    "fig = plt.figure(figsize=(8, 6))\n",
    "_ = plot_tree(model, feature_names=columns[:-1], class_names=['fake', 'real'], filled=True)"
   ]
  },
  {
   "cell_type": "code",
   "execution_count": 8,
   "metadata": {},
   "outputs": [
    {
     "name": "stdout",
     "output_type": "stream",
     "text": [
      "Best parameters:\n",
      "    n_estimators: 150\n",
      "\n",
      "Training accuracy: 98.333%\n",
      "Validation accuracy: 81.682%\n"
     ]
    }
   ],
   "source": [
    "model = RandomForestClassifier(criterion='entropy')\n",
    "param_grid = {\n",
    "    'n_estimators': (50, 100, 150, 200,),\n",
    "}\n",
    "\n",
    "clf = grid_search(model=model, param_grid=param_grid)"
   ]
  },
  {
   "cell_type": "code",
   "execution_count": 9,
   "metadata": {},
   "outputs": [
    {
     "name": "stdout",
     "output_type": "stream",
     "text": [
      "Best parameters:\n",
      "    booster: gbtree\n",
      "\n",
      "Training accuracy: 92.539%\n",
      "Validation accuracy: 80.935%\n"
     ]
    }
   ],
   "source": [
    "model = XGBClassifier()\n",
    "param_grid = {\n",
    "    'booster': ('gbtree', 'gblinear',),\n",
    "}\n",
    "\n",
    "clf = grid_search(model=model, param_grid=param_grid)"
   ]
  },
  {
   "cell_type": "code",
   "execution_count": 10,
   "metadata": {},
   "outputs": [
    {
     "name": "stderr",
     "output_type": "stream",
     "text": [
      "/home/jasraj/.conda/envs/fakenews/lib/python3.8/site-packages/tqdm/auto.py:21: TqdmWarning: IProgress not found. Please update jupyter and ipywidgets. See https://ipywidgets.readthedocs.io/en/stable/user_install.html\n",
      "  from .autonotebook import tqdm as notebook_tqdm\n"
     ]
    }
   ],
   "source": [
    "import numpy as np\n",
    "import torch\n",
    "from torch.utils.data import default_collate, TensorDataset, DataLoader\n",
    "from torch.nn import Module, ModuleList, Linear, GELU, Dropout, BCELoss\n",
    "from torch.optim import AdamW\n",
    "from torchmetrics import Accuracy, F1Score"
   ]
  },
  {
   "cell_type": "code",
   "execution_count": 11,
   "metadata": {},
   "outputs": [],
   "source": [
    "def normalize(X_train, X_val, eps=1e-6):\n",
    "\n",
    "    mean, std = np.mean(X_train, axis=0), np.std(X_train, axis=0)\n",
    "    X_train = (X_train-mean) / (std+eps)\n",
    "    X_val = (X_val-mean) / (std+eps)\n",
    "\n",
    "    return X_train, X_val"
   ]
  },
  {
   "cell_type": "code",
   "execution_count": 12,
   "metadata": {},
   "outputs": [],
   "source": [
    "X_train, y_train = dfs['train'].iloc[:, :-1].values, dfs['train'].iloc[:, -1].values\n",
    "X_val, y_val = dfs['val'].iloc[:, :-1].values, dfs['val'].iloc[:, -1].values\n",
    "\n",
    "X_train, X_val = normalize(X_train, X_val)\n",
    "\n",
    "train_dataset = TensorDataset(torch.from_numpy(X_train).float(), torch.from_numpy(y_train))\n",
    "val_dataset = TensorDataset(torch.from_numpy(X_val).float(), torch.from_numpy(y_val))\n",
    "\n",
    "train_loader = DataLoader(train_dataset, batch_size=16, collate_fn=default_collate, shuffle=True)\n",
    "val_loader = DataLoader(val_dataset, batch_size=16, collate_fn=default_collate, shuffle=True)"
   ]
  },
  {
   "cell_type": "code",
   "execution_count": 13,
   "metadata": {},
   "outputs": [],
   "source": [
    "class Model(Module):\n",
    "\n",
    "    def __init__(self, input_shape=18, hidden_size=128, layers=4, dropout=0.1):\n",
    "\n",
    "        super(Model, self).__init__()\n",
    "\n",
    "        dense_layers = list()\n",
    "        for in_features, out_features in zip([input_shape]+[hidden_size]*(layers-1), [hidden_size]*(layers-1)+[1]):\n",
    "            dense_layer = Linear(in_features=in_features, out_features=out_features, bias=True)\n",
    "            dense_layers.append(dense_layer)\n",
    "\n",
    "        self.dense_layers = ModuleList(dense_layers)\n",
    "        self.activation = GELU()\n",
    "        self.dropout = Dropout(p=dropout, inplace=False)\n",
    "\n",
    "        self.loss = BCELoss()\n",
    "\n",
    "    def forward(self, x, y):\n",
    "\n",
    "        for dense_layer in self.dense_layers[:-1]:\n",
    "            x = dense_layer(x)\n",
    "            x = self.activation(x)\n",
    "            x = self.dropout(x)\n",
    "        \n",
    "        logits = self.dense_layers[-1](x).squeeze(-1)\n",
    "        probs = torch.sigmoid(logits)\n",
    "        preds = torch.round(probs).detach().cpu()\n",
    "        loss = self.loss(probs, y.float())\n",
    "\n",
    "        return preds, loss\n",
    "    \n",
    "model = Model(input_shape=X_train.shape[-1], hidden_size=128, layers=4, dropout=0.2)\n",
    "optimizer = AdamW(model.parameters(), lr=5e-4)"
   ]
  },
  {
   "cell_type": "code",
   "execution_count": 14,
   "metadata": {},
   "outputs": [
    {
     "name": "stdout",
     "output_type": "stream",
     "text": [
      "Epoch 10\n",
      "Training: Accuracy = 78.6916%, F1-Score = 80.3618%, Loss = 0.452357\n",
      "Validation: Accuracy = 78.7383%, F1-Score = 80.1049%, Loss = 0.449057\n",
      "\n",
      "Epoch 20\n",
      "Training: Accuracy = 80.0779%, F1-Score = 81.5147%, Loss = 0.433022\n",
      "Validation: Accuracy = 79.9533%, F1-Score = 81.2254%, Loss = 0.443211\n",
      "\n",
      "Epoch 30\n",
      "Training: Accuracy = 81.1215%, F1-Score = 82.3888%, Loss = 0.412047\n",
      "Validation: Accuracy = 79.8131%, F1-Score = 80.9859%, Loss = 0.436032\n",
      "\n",
      "Epoch 40\n",
      "Training: Accuracy = 82.0093%, F1-Score = 83.2146%, Loss = 0.403403\n",
      "Validation: Accuracy = 80.7009%, F1-Score = 81.9572%, Loss = 0.433681\n",
      "\n",
      "Epoch 50\n",
      "Training: Accuracy = 82.9751%, F1-Score = 84.0879%, Loss = 0.380394\n",
      "Validation: Accuracy = 80.3271%, F1-Score = 81.5594%, Loss = 0.443499\n",
      "\n",
      "Epoch 60\n",
      "Training: Accuracy = 82.9595%, F1-Score = 84.1679%, Loss = 0.378586\n",
      "Validation: Accuracy = 80.0935%, F1-Score = 81.1837%, Loss = 0.451881\n",
      "\n",
      "Epoch 70\n",
      "Training: Accuracy = 84.2679%, F1-Score = 85.2984%, Loss = 0.364351\n",
      "Validation: Accuracy = 80.7944%, F1-Score = 81.8703%, Loss = 0.450254\n",
      "\n",
      "Epoch 80\n",
      "Training: Accuracy = 84.4393%, F1-Score = 85.4139%, Loss = 0.351356\n",
      "Validation: Accuracy = 80.6542%, F1-Score = 81.9214%, Loss = 0.447187\n",
      "\n",
      "Epoch 90\n",
      "Training: Accuracy = 85.0623%, F1-Score = 86.0873%, Loss = 0.342383\n",
      "Validation: Accuracy = 80.1402%, F1-Score = 81.4329%, Loss = 0.465006\n",
      "\n",
      "Epoch 100\n",
      "Training: Accuracy = 85.5296%, F1-Score = 86.4597%, Loss = 0.331344\n",
      "Validation: Accuracy = 80.2804%, F1-Score = 81.4912%, Loss = 0.471147\n",
      "\n"
     ]
    }
   ],
   "source": [
    "accuracy, f1_score = Accuracy(task='binary'), F1Score(task='binary')\n",
    "\n",
    "for epoch in range(1, 101):\n",
    "\n",
    "    model.train()\n",
    "    epoch_labels, epoch_preds, epoch_losses = list(), list(), list()\n",
    "    for features, labels in train_loader:\n",
    "        optimizer.zero_grad()\n",
    "        preds, loss = model(features, labels)\n",
    "        loss.backward()\n",
    "        optimizer.step()\n",
    "        epoch_labels.append(labels.detach().cpu()); epoch_preds.append(preds); epoch_losses.append(loss.item())\n",
    "    epoch_labels = torch.cat(epoch_labels); epoch_preds = torch.cat(epoch_preds); mean_loss = np.mean(epoch_losses)\n",
    "\n",
    "    if epoch%10 == 0:\n",
    "        print(f'Epoch {epoch}\\nTraining: Accuracy = {100*accuracy(epoch_preds, epoch_labels).item():.4f}%, F1-Score = {100*f1_score(epoch_preds, epoch_labels).item():.4f}%, Loss = {mean_loss:.6f}')\n",
    "        model.eval()\n",
    "        epoch_labels, epoch_preds, epoch_losses = list(), list(), list()\n",
    "        with torch.no_grad():\n",
    "            for features, labels in val_loader:\n",
    "                preds, loss = model(features, labels)\n",
    "                epoch_labels.append(labels.detach().cpu()); epoch_preds.append(preds); epoch_losses.append(loss.item())\n",
    "        epoch_labels = torch.cat(epoch_labels); epoch_preds = torch.cat(epoch_preds); mean_loss = np.mean(epoch_losses)\n",
    "        print(f'Validation: Accuracy = {100*accuracy(epoch_preds, epoch_labels).item():.4f}%, F1-Score = {100*f1_score(epoch_preds, epoch_labels).item():.4f}%, Loss = {mean_loss:.6f}\\n')"
   ]
  }
 ],
 "metadata": {
  "kernelspec": {
   "display_name": "fakenews",
   "language": "python",
   "name": "python3"
  },
  "language_info": {
   "codemirror_mode": {
    "name": "ipython",
    "version": 3
   },
   "file_extension": ".py",
   "mimetype": "text/x-python",
   "name": "python",
   "nbconvert_exporter": "python",
   "pygments_lexer": "ipython3",
   "version": "3.8.17"
  },
  "orig_nbformat": 4
 },
 "nbformat": 4,
 "nbformat_minor": 2
}
