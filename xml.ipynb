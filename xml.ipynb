{
 "cells": [
  {
   "cell_type": "code",
   "execution_count": 1,
   "metadata": {},
   "outputs": [],
   "source": [
    "import pandas as pd\n",
    "from sklearn.svm import SVC\n",
    "from sklearn.tree import DecisionTreeClassifier, export_text, plot_tree\n",
    "from sklearn.ensemble import RandomForestClassifier\n",
    "from xgboost import XGBClassifier\n",
    "from sklearn.model_selection import GridSearchCV\n",
    "from sklearn.metrics import accuracy_score\n",
    "import matplotlib.pyplot as plt\n",
    "\n",
    "from data_classes import ConstraintAppended, ConstraintcleanedAppended"
   ]
  },
  {
   "cell_type": "code",
   "execution_count": 21,
   "metadata": {},
   "outputs": [
    {
     "name": "stdout",
     "output_type": "stream",
     "text": [
      "train_df.shape = (3919, 20)\n",
      "val_df.shape = (980, 20)\n",
      "test_df.shape = (0, 20)\n",
      "columns:\n",
      "    0. tweet\n",
      "    1. label\n",
      "    2. WPS\n",
      "    3. allnone\n",
      "    4. cause\n",
      "    5. discrep\n",
      "    6. certitude\n",
      "    7. tone_pos\n",
      "    8. tone_neg\n",
      "    9. swear\n",
      "    10. Perception\n",
      "    11. motion\n",
      "    12. space\n",
      "    13. auditory\n",
      "    14. feeling\n",
      "    15. Conversation\n",
      "    16. netspeak\n",
      "    17. assent\n",
      "    18. QMark\n",
      "    19. Exclam\n"
     ]
    }
   ],
   "source": [
    "dfs = ConstraintcleanedAppended(f'./datasets/aaai-constraint-covid-cleaned-appended', train_pct=80, valid_pct=20)\n",
    "splits = ('train', 'val', 'test')\n",
    "\n",
    "print(\n",
    "    *(f'{split}_df.shape = {dfs[split].shape}' for split in dfs), \n",
    "    'columns:', *(f'    {i}. {c}' for i, c in enumerate(dfs['train'].columns)), \n",
    "    sep='\\n',\n",
    ")"
   ]
  },
  {
   "cell_type": "code",
   "execution_count": 22,
   "metadata": {},
   "outputs": [
    {
     "name": "stdout",
     "output_type": "stream",
     "text": [
      "train_df.shape = (3919, 19)\n",
      "val_df.shape = (980, 19)\n",
      "test_df.shape = (0, 19)\n",
      "columns:\n",
      "    0. label\n",
      "    1. wps\n",
      "    2. allnone\n",
      "    3. cause\n",
      "    4. discrep\n",
      "    5. certitude\n",
      "    6. tone_pos\n",
      "    7. tone_neg\n",
      "    8. swear\n",
      "    9. perception\n",
      "    10. motion\n",
      "    11. space\n",
      "    12. auditory\n",
      "    13. feeling\n",
      "    14. conversation\n",
      "    15. netspeak\n",
      "    16. assent\n",
      "    17. qmark\n",
      "    18. exclam\n"
     ]
    }
   ],
   "source": [
    "for split in splits:\n",
    "    dfs[split] = dfs[split].drop(['tweet'], axis=1)\n",
    "    dfs[split] = dfs[split].rename(columns={x: x.lower() for x in dfs[split].columns})\n",
    "    columns = dfs[split].columns.tolist()\n",
    "    dfs[split] = dfs[split][columns[1:]+[columns[0]]]\n",
    "    \n",
    "print(\n",
    "    *(f'{split}_df.shape = {dfs[split].shape}' for split in splits), \n",
    "    'columns:', *(f'    {i}. {c}' for i, c in enumerate(columns)), \n",
    "    sep='\\n',\n",
    ")"
   ]
  },
  {
   "cell_type": "code",
   "execution_count": 24,
   "metadata": {},
   "outputs": [],
   "source": [
    "def grid_search(model, param_grid):\n",
    "\n",
    "    clf = GridSearchCV(estimator=model, param_grid=param_grid, scoring='accuracy', cv=3,)\n",
    "\n",
    "    clf.fit(dfs['train'].iloc[:, :-1], dfs['train'].iloc[:, -1],)\n",
    "    print('Best parameters:', *(f'    {k}: {v}' for k, v in clf.best_params_.items()), sep='\\n',)\n",
    "\n",
    "    print(f\"\\nTraining accuracy: {100 * clf.score(dfs['train'].iloc[:, :-1], dfs['train'].iloc[:, -1]):.3f}%\")\n",
    "    print(f\"Validation accuracy: {100 * clf.score(dfs['val'].iloc[:, :-1], dfs['val'].iloc[:, -1]):.3f}%\")\n",
    "\n",
    "    return clf"
   ]
  },
  {
   "cell_type": "code",
   "execution_count": 25,
   "metadata": {},
   "outputs": [
    {
     "name": "stdout",
     "output_type": "stream",
     "text": [
      "Best parameters:\n",
      "    C: 10\n",
      "    kernel: rbf\n",
      "\n",
      "Training accuracy: 73.386%\n",
      "Validation accuracy: 70.510%\n"
     ]
    }
   ],
   "source": [
    "model = SVC()\n",
    "param_grid = {\n",
    "    'C': (1, 10, 100,),\n",
    "    'kernel': ('poly', 'rbf',),\n",
    "}\n",
    "\n",
    "clf = grid_search(model=model, param_grid=param_grid)"
   ]
  },
  {
   "cell_type": "code",
   "execution_count": 26,
   "metadata": {},
   "outputs": [
    {
     "name": "stdout",
     "output_type": "stream",
     "text": [
      "Best parameters:\n",
      "    criterion: entropy\n",
      "    max_depth: 5\n",
      "\n",
      "Training accuracy: 70.783%\n",
      "Validation accuracy: 66.531%\n"
     ]
    }
   ],
   "source": [
    "model = DecisionTreeClassifier(splitter='best')\n",
    "param_grid = {\n",
    "    'criterion': ('gini', 'entropy',),\n",
    "    'max_depth': (5, 6, 7, 8, 9,),\n",
    "}\n",
    "\n",
    "clf = grid_search(model=model, param_grid=param_grid)"
   ]
  },
  {
   "cell_type": "code",
   "execution_count": 27,
   "metadata": {},
   "outputs": [
    {
     "name": "stdout",
     "output_type": "stream",
     "text": [
      "Training accuracy: 67.134%\n",
      "Validation accuracy: 66.020%\n",
      "\n",
      "|--- certitude <= 2.02\n",
      "|   |--- swear <= 0.91\n",
      "|   |   |--- class: fake\n",
      "|   |--- swear >  0.91\n",
      "|   |   |--- class: real\n",
      "|--- certitude >  2.02\n",
      "|   |--- certitude <= 3.67\n",
      "|   |   |--- class: real\n",
      "|   |--- certitude >  3.67\n",
      "|   |   |--- class: real\n",
      "\n"
     ]
    },
    {
     "data": {
      "image/png": "[encoded data removed]",
      "text/plain": [
       "<Figure size 800x600 with 1 Axes>"
      ]
     },
     "metadata": {},
     "output_type": "display_data"
    }
   ],
   "source": [
    "model.set_params(criterion='entropy', max_depth=2)\n",
    "model.fit(dfs['train'].iloc[:, :-1], dfs['train'].iloc[:, -1],)\n",
    "\n",
    "print(f\"Training accuracy: {100 * accuracy_score(model.predict(dfs['train'].iloc[:, :-1]), dfs['train'].iloc[:, -1]):.3f}%\")\n",
    "print(f\"Validation accuracy: {100 * accuracy_score(model.predict(dfs['val'].iloc[:, :-1]), dfs['val'].iloc[:, -1]):.3f}%\\n\")\n",
    "\n",
    "print(export_text(model, feature_names=columns[:-1], class_names=['fake', 'real']))\n",
    "\n",
    "fig = plt.figure(figsize=(8, 6))\n",
    "_ = plot_tree(model, feature_names=columns[:-1], class_names=['fake', 'real'], filled=True)"
   ]
  },
  {
   "cell_type": "code",
   "execution_count": 28,
   "metadata": {},
   "outputs": [
    {
     "name": "stdout",
     "output_type": "stream",
     "text": [
      "Best parameters:\n",
      "    n_estimators: 50\n",
      "\n",
      "Training accuracy: 93.850%\n",
      "Validation accuracy: 71.939%\n"
     ]
    }
   ],
   "source": [
    "model = RandomForestClassifier(criterion='entropy')\n",
    "param_grid = {\n",
    "    'n_estimators': (50, 100, 150, 200,),\n",
    "}\n",
    "\n",
    "clf = grid_search(model=model, param_grid=param_grid)"
   ]
  },
  {
   "cell_type": "code",
   "execution_count": 29,
   "metadata": {},
   "outputs": [
    {
     "name": "stdout",
     "output_type": "stream",
     "text": [
      "Best parameters:\n",
      "    booster: gbtree\n",
      "\n",
      "Training accuracy: 88.109%\n",
      "Validation accuracy: 71.327%\n"
     ]
    }
   ],
   "source": [
    "model = XGBClassifier()\n",
    "param_grid = {\n",
    "    'booster': ('gbtree', 'gblinear',),\n",
    "}\n",
    "\n",
    "clf = grid_search(model=model, param_grid=param_grid)"
   ]
  },
  {
   "cell_type": "code",
   "execution_count": 30,
   "metadata": {},
   "outputs": [],
   "source": [
    "import numpy as np\n",
    "import torch\n",
    "from torch.utils.data import default_collate, TensorDataset, DataLoader\n",
    "from torch.nn import Module, ModuleList, Linear, GELU, Dropout, BCELoss\n",
    "from torch.optim import AdamW\n",
    "from torchmetrics import Accuracy, F1Score"
   ]
  },
  {
   "cell_type": "code",
   "execution_count": 31,
   "metadata": {},
   "outputs": [],
   "source": [
    "def normalize(X_train, X_val, eps=1e-6):\n",
    "\n",
    "    mean, std = np.mean(X_train, axis=0), np.std(X_train, axis=0)\n",
    "    X_train = (X_train-mean) / (std+eps)\n",
    "    X_val = (X_val-mean) / (std+eps)\n",
    "\n",
    "    return X_train, X_val"
   ]
  },
  {
   "cell_type": "code",
   "execution_count": 32,
   "metadata": {},
   "outputs": [],
   "source": [
    "X_train, y_train = dfs['train'].iloc[:, :-1].values, dfs['train'].iloc[:, -1].values\n",
    "X_val, y_val = dfs['val'].iloc[:, :-1].values, dfs['val'].iloc[:, -1].values\n",
    "\n",
    "X_train, X_val = normalize(X_train, X_val)\n",
    "\n",
    "train_dataset = TensorDataset(torch.from_numpy(X_train).float(), torch.from_numpy(y_train))\n",
    "val_dataset = TensorDataset(torch.from_numpy(X_val).float(), torch.from_numpy(y_val))\n",
    "\n",
    "train_loader = DataLoader(train_dataset, batch_size=16, collate_fn=default_collate, shuffle=True)\n",
    "val_loader = DataLoader(val_dataset, batch_size=16, collate_fn=default_collate, shuffle=True)"
   ]
  },
  {
   "cell_type": "code",
   "execution_count": 33,
   "metadata": {},
   "outputs": [],
   "source": [
    "class Model(Module):\n",
    "\n",
    "    def __init__(self, input_shape=18, hidden_size=128, layers=4, dropout=0.1):\n",
    "\n",
    "        super(Model, self).__init__()\n",
    "\n",
    "        dense_layers = list()\n",
    "        for in_features, out_features in zip([input_shape]+[hidden_size]*(layers-1), [hidden_size]*(layers-1)+[1]):\n",
    "            dense_layer = Linear(in_features=in_features, out_features=out_features, bias=True)\n",
    "            dense_layers.append(dense_layer)\n",
    "\n",
    "        self.dense_layers = ModuleList(dense_layers)\n",
    "        self.activation = GELU()\n",
    "        self.dropout = Dropout(p=dropout, inplace=False)\n",
    "\n",
    "        self.loss = BCELoss()\n",
    "\n",
    "    def forward(self, x, y):\n",
    "\n",
    "        for dense_layer in self.dense_layers[:-1]:\n",
    "            x = dense_layer(x)\n",
    "            x = self.activation(x)\n",
    "            x = self.dropout(x)\n",
    "        \n",
    "        logits = self.dense_layers[-1](x).squeeze(-1)\n",
    "        probs = torch.sigmoid(logits)\n",
    "        preds = torch.round(probs).detach().cpu()\n",
    "        loss = self.loss(probs, y.float())\n",
    "\n",
    "        return preds, loss\n",
    "    \n",
    "model = Model(input_shape=X_train.shape[-1], hidden_size=128, layers=4, dropout=0.2)\n",
    "optimizer = AdamW(model.parameters(), lr=5e-4)"
   ]
  },
  {
   "cell_type": "code",
   "execution_count": 34,
   "metadata": {},
   "outputs": [
    {
     "name": "stdout",
     "output_type": "stream",
     "text": [
      "Epoch 10\n",
      "Training: Accuracy = 70.7323%, F1-Score = 79.2548%, Loss = 0.561402\n",
      "Validation: Accuracy = 68.9796%, F1-Score = 78.3167%, Loss = 0.577275\n",
      "\n",
      "Epoch 20\n",
      "Training: Accuracy = 71.3958%, F1-Score = 79.2369%, Loss = 0.546139\n",
      "Validation: Accuracy = 70.5102%, F1-Score = 78.5767%, Loss = 0.562258\n",
      "\n",
      "Epoch 30\n",
      "Training: Accuracy = 72.6971%, F1-Score = 80.0373%, Loss = 0.527116\n",
      "Validation: Accuracy = 71.1224%, F1-Score = 79.0215%, Loss = 0.541612\n",
      "\n",
      "Epoch 40\n",
      "Training: Accuracy = 73.1819%, F1-Score = 80.2777%, Loss = 0.512391\n",
      "Validation: Accuracy = 70.7143%, F1-Score = 78.2411%, Loss = 0.541739\n",
      "\n",
      "Epoch 50\n",
      "Training: Accuracy = 73.9474%, F1-Score = 80.6592%, Loss = 0.501933\n",
      "Validation: Accuracy = 70.7143%, F1-Score = 78.2080%, Loss = 0.553662\n",
      "\n",
      "Epoch 60\n",
      "Training: Accuracy = 74.0495%, F1-Score = 80.9800%, Loss = 0.493393\n",
      "Validation: Accuracy = 71.0204%, F1-Score = 78.3537%, Loss = 0.569355\n",
      "\n",
      "Epoch 70\n",
      "Training: Accuracy = 75.1722%, F1-Score = 81.7414%, Loss = 0.477486\n",
      "Validation: Accuracy = 70.6122%, F1-Score = 77.1429%, Loss = 0.587873\n",
      "\n",
      "Epoch 80\n",
      "Training: Accuracy = 75.8102%, F1-Score = 81.8738%, Loss = 0.468104\n",
      "Validation: Accuracy = 70.4082%, F1-Score = 78.1955%, Loss = 0.607350\n",
      "\n",
      "Epoch 90\n",
      "Training: Accuracy = 76.6012%, F1-Score = 82.4900%, Loss = 0.461476\n",
      "Validation: Accuracy = 70.2041%, F1-Score = 76.3754%, Loss = 0.603991\n",
      "\n",
      "Epoch 100\n",
      "Training: Accuracy = 77.6729%, F1-Score = 83.3555%, Loss = 0.448976\n",
      "Validation: Accuracy = 70.6122%, F1-Score = 78.1155%, Loss = 0.621267\n",
      "\n"
     ]
    }
   ],
   "source": [
    "accuracy, f1_score = Accuracy(task='binary'), F1Score(task='binary')\n",
    "\n",
    "for epoch in range(1, 101):\n",
    "\n",
    "    model.train()\n",
    "    epoch_labels, epoch_preds, epoch_losses = list(), list(), list()\n",
    "    for features, labels in train_loader:\n",
    "        optimizer.zero_grad()\n",
    "        preds, loss = model(features, labels)\n",
    "        loss.backward()\n",
    "        optimizer.step()\n",
    "        epoch_labels.append(labels.detach().cpu()); epoch_preds.append(preds); epoch_losses.append(loss.item())\n",
    "    epoch_labels = torch.cat(epoch_labels); epoch_preds = torch.cat(epoch_preds); mean_loss = np.mean(epoch_losses)\n",
    "\n",
    "    if epoch%10 == 0:\n",
    "        print(f'Epoch {epoch}\\nTraining: Accuracy = {100*accuracy(epoch_preds, epoch_labels).item():.4f}%, F1-Score = {100*f1_score(epoch_preds, epoch_labels).item():.4f}%, Loss = {mean_loss:.6f}')\n",
    "        model.eval()\n",
    "        epoch_labels, epoch_preds, epoch_losses = list(), list(), list()\n",
    "        with torch.no_grad():\n",
    "            for features, labels in val_loader:\n",
    "                preds, loss = model(features, labels)\n",
    "                epoch_labels.append(labels.detach().cpu()); epoch_preds.append(preds); epoch_losses.append(loss.item())\n",
    "        epoch_labels = torch.cat(epoch_labels); epoch_preds = torch.cat(epoch_preds); mean_loss = np.mean(epoch_losses)\n",
    "        print(f'Validation: Accuracy = {100*accuracy(epoch_preds, epoch_labels).item():.4f}%, F1-Score = {100*f1_score(epoch_preds, epoch_labels).item():.4f}%, Loss = {mean_loss:.6f}\\n')"
   ]
  },
  {
   "cell_type": "code",
   "execution_count": null,
   "metadata": {},
   "outputs": [],
   "source": [
    "from tqdm import tqdm\n",
    "\n",
    "import torch\n",
    "from transformers import BertForSequenceClassification, BertTokenizerFast\n",
    "from torch.utils.data import TensorDataset, DataLoader\n",
    "\n",
    "from data_classes import ConstraintCovid\n",
    "from data_classes.preprocess import PreProcessor\n",
    "from utils.tokenizer import tokenize"
   ]
  },
  {
   "cell_type": "code",
   "execution_count": 16,
   "metadata": {},
   "outputs": [],
   "source": [
    "device = torch.device('cuda:0')\n",
    "preprocessor = PreProcessor()\n",
    "datasets = ConstraintCovid(root='datasets/aaai-constraint-covid',)\n",
    "\n",
    "datasets.apply(\n",
    "    func=preprocessor.preprocess, \n",
    "    splits=['train'], \n",
    "    col='tweet', \n",
    "    new_col='tweet'\n",
    ")"
   ]
  },
  {
   "cell_type": "code",
   "execution_count": 17,
   "metadata": {},
   "outputs": [
    {
     "name": "stderr",
     "output_type": "stream",
     "text": [
      "Some weights of BertForSequenceClassification were not initialized from the model checkpoint at digitalepidemiologylab/covid-twitter-bert-v2 and are newly initialized: ['classifier.bias', 'classifier.weight']\n",
      "You should probably TRAIN this model on a down-stream task to be able to use it for predictions and inference.\n"
     ]
    },
    {
     "ename": "FileNotFoundError",
     "evalue": "[Errno 2] No such file or directory: 'results/aaai-constraint-covid/CT-BERT/ckpt4800.pth'",
     "output_type": "error",
     "traceback": [
      "\u001b[0;31m---------------------------------------------------------------------------\u001b[0m",
      "\u001b[0;31mFileNotFoundError\u001b[0m                         Traceback (most recent call last)",
      "Cell \u001b[0;32mIn[17], line 2\u001b[0m\n\u001b[1;32m      1\u001b[0m model \u001b[39m=\u001b[39m BertForSequenceClassification\u001b[39m.\u001b[39mfrom_pretrained(\u001b[39m'\u001b[39m\u001b[39mdigitalepidemiologylab/covid-twitter-bert-v2\u001b[39m\u001b[39m'\u001b[39m)\n\u001b[0;32m----> 2\u001b[0m model\u001b[39m.\u001b[39mload_state_dict(torch\u001b[39m.\u001b[39;49mload(\u001b[39m'\u001b[39;49m\u001b[39mresults/aaai-constraint-covid/CT-BERT/ckpt4800.pth\u001b[39;49m\u001b[39m'\u001b[39;49m))\n\u001b[1;32m      4\u001b[0m tokenizer \u001b[39m=\u001b[39m BertTokenizerFast\u001b[39m.\u001b[39mfrom_pretrained(\u001b[39m'\u001b[39m\u001b[39mdigitalepidemiologylab/covid-twitter-bert-v2\u001b[39m\u001b[39m'\u001b[39m)\n",
      "File \u001b[0;32m~/.conda/envs/fakenews/lib/python3.8/site-packages/torch/serialization.py:791\u001b[0m, in \u001b[0;36mload\u001b[0;34m(f, map_location, pickle_module, weights_only, **pickle_load_args)\u001b[0m\n\u001b[1;32m    788\u001b[0m \u001b[39mif\u001b[39;00m \u001b[39m'\u001b[39m\u001b[39mencoding\u001b[39m\u001b[39m'\u001b[39m \u001b[39mnot\u001b[39;00m \u001b[39min\u001b[39;00m pickle_load_args\u001b[39m.\u001b[39mkeys():\n\u001b[1;32m    789\u001b[0m     pickle_load_args[\u001b[39m'\u001b[39m\u001b[39mencoding\u001b[39m\u001b[39m'\u001b[39m] \u001b[39m=\u001b[39m \u001b[39m'\u001b[39m\u001b[39mutf-8\u001b[39m\u001b[39m'\u001b[39m\n\u001b[0;32m--> 791\u001b[0m \u001b[39mwith\u001b[39;00m _open_file_like(f, \u001b[39m'\u001b[39;49m\u001b[39mrb\u001b[39;49m\u001b[39m'\u001b[39;49m) \u001b[39mas\u001b[39;00m opened_file:\n\u001b[1;32m    792\u001b[0m     \u001b[39mif\u001b[39;00m _is_zipfile(opened_file):\n\u001b[1;32m    793\u001b[0m         \u001b[39m# The zipfile reader is going to advance the current file position.\u001b[39;00m\n\u001b[1;32m    794\u001b[0m         \u001b[39m# If we want to actually tail call to torch.jit.load, we need to\u001b[39;00m\n\u001b[1;32m    795\u001b[0m         \u001b[39m# reset back to the original position.\u001b[39;00m\n\u001b[1;32m    796\u001b[0m         orig_position \u001b[39m=\u001b[39m opened_file\u001b[39m.\u001b[39mtell()\n",
      "File \u001b[0;32m~/.conda/envs/fakenews/lib/python3.8/site-packages/torch/serialization.py:271\u001b[0m, in \u001b[0;36m_open_file_like\u001b[0;34m(name_or_buffer, mode)\u001b[0m\n\u001b[1;32m    269\u001b[0m \u001b[39mdef\u001b[39;00m \u001b[39m_open_file_like\u001b[39m(name_or_buffer, mode):\n\u001b[1;32m    270\u001b[0m     \u001b[39mif\u001b[39;00m _is_path(name_or_buffer):\n\u001b[0;32m--> 271\u001b[0m         \u001b[39mreturn\u001b[39;00m _open_file(name_or_buffer, mode)\n\u001b[1;32m    272\u001b[0m     \u001b[39melse\u001b[39;00m:\n\u001b[1;32m    273\u001b[0m         \u001b[39mif\u001b[39;00m \u001b[39m'\u001b[39m\u001b[39mw\u001b[39m\u001b[39m'\u001b[39m \u001b[39min\u001b[39;00m mode:\n",
      "File \u001b[0;32m~/.conda/envs/fakenews/lib/python3.8/site-packages/torch/serialization.py:252\u001b[0m, in \u001b[0;36m_open_file.__init__\u001b[0;34m(self, name, mode)\u001b[0m\n\u001b[1;32m    251\u001b[0m \u001b[39mdef\u001b[39;00m \u001b[39m__init__\u001b[39m(\u001b[39mself\u001b[39m, name, mode):\n\u001b[0;32m--> 252\u001b[0m     \u001b[39msuper\u001b[39m()\u001b[39m.\u001b[39m\u001b[39m__init__\u001b[39m(\u001b[39mopen\u001b[39;49m(name, mode))\n",
      "\u001b[0;31mFileNotFoundError\u001b[0m: [Errno 2] No such file or directory: 'results/aaai-constraint-covid/CT-BERT/ckpt4800.pth'"
     ]
    }
   ],
   "source": [
    "model = BertForSequenceClassification.from_pretrained('digitalepidemiologylab/covid-twitter-bert-v2')\n",
    "model.load_state_dict(torch.load('results/aaai-constraint-covid/CT-BERT/ckpt4800.pth'))\n",
    "\n",
    "tokenizer = BertTokenizerFast.from_pretrained('digitalepidemiologylab/covid-twitter-bert-v2')"
   ]
  },
  {
   "cell_type": "code",
   "execution_count": null,
   "metadata": {},
   "outputs": [
    {
     "name": "stderr",
     "output_type": "stream",
     "text": [
      "100%|██████████| 6420/6420 [00:00<00:00, 6648.47it/s]\n"
     ]
    }
   ],
   "source": [
    "encoded_inputs, _, _ = tokenize(\n",
    "    tokenizer,\n",
    "    datasets,\n",
    "    splits=['train'],\n",
    "    max_length=128,\n",
    "    add_dense=False,\n",
    ")\n",
    "\n",
    "input_ids, attention_masks = encoded_inputs['train']['input_ids'], encoded_inputs['train']['attention_mask']\n",
    "data_loader = DataLoader(TensorDataset(input_ids, attention_masks), batch_size=32, shuffle=False)"
   ]
  },
  {
   "cell_type": "code",
   "execution_count": null,
   "metadata": {},
   "outputs": [
    {
     "name": "stderr",
     "output_type": "stream",
     "text": [
      "100%|██████████| 201/201 [00:31<00:00,  6.42it/s]\n"
     ]
    }
   ],
   "source": [
    "model = model.to(device)\n",
    "\n",
    "with torch.no_grad():\n",
    "    model.eval()\n",
    "    probs = list()\n",
    "    for batch_input_ids, batch_attention_masks in tqdm(data_loader):\n",
    "        logits = model(input_ids=batch_input_ids.to(device), attention_mask=batch_attention_masks.to(device))[0]\n",
    "        logits = logits[:, 1]\n",
    "        probs.append(torch.sigmoid(logits))\n",
    "\n",
    "probs = torch.cat(probs)"
   ]
  }
 ],
 "metadata": {
  "kernelspec": {
   "display_name": "fakenews",
   "language": "python",
   "name": "python3"
  },
  "language_info": {
   "codemirror_mode": {
    "name": "ipython",
    "version": 3
   },
   "file_extension": ".py",
   "mimetype": "text/x-python",
   "name": "python",
   "nbconvert_exporter": "python",
   "pygments_lexer": "ipython3",
   "version": "3.8.17"
  },
  "orig_nbformat": 4
 },
 "nbformat": 4,
 "nbformat_minor": 2
}
