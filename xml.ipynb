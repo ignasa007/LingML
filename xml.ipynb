{
 "cells": [
  {
   "cell_type": "code",
   "execution_count": 1,
   "metadata": {},
   "outputs": [],
   "source": [
    "import pandas as pd\n",
    "from sklearn.svm import SVC\n",
    "from sklearn.tree import DecisionTreeClassifier, export_text, plot_tree\n",
    "from sklearn.ensemble import RandomForestClassifier\n",
    "from xgboost import XGBClassifier\n",
    "from sklearn.model_selection import GridSearchCV\n",
    "from sklearn.metrics import accuracy_score\n",
    "import matplotlib.pyplot as plt"
   ]
  },
  {
   "cell_type": "code",
   "execution_count": 2,
   "metadata": {},
   "outputs": [
    {
     "name": "stdout",
     "output_type": "stream",
     "text": [
      "train_df.shape = (6420, 21)\n",
      "val_df.shape = (2140, 21)\n",
      "test_df.shape = (2140, 21)\n",
      "columns:\n",
      "    0. tweet\n",
      "    1. label\n",
      "    2. Segment\n",
      "    3. WPS\n",
      "    4. allnone\n",
      "    5. cause\n",
      "    6. discrep\n",
      "    7. certitude\n",
      "    8. tone_pos\n",
      "    9. tone_neg\n",
      "    10. swear\n",
      "    11. Perception\n",
      "    12. motion\n",
      "    13. space\n",
      "    14. auditory\n",
      "    15. feeling\n",
      "    16. Conversation\n",
      "    17. netspeak\n",
      "    18. assent\n",
      "    19. QMark\n",
      "    20. Exclam\n"
     ]
    }
   ],
   "source": [
    "splits = ('train', 'val', 'test')\n",
    "dfs = dict()\n",
    "\n",
    "for split in splits:\n",
    "    dfs[split] = pd.read_csv(f'./datasets/aaai-constraint-covid-appended/{split}.csv', index_col=0)\n",
    "\n",
    "print(\n",
    "    *(f'{split}_df.shape = {dfs[split].shape}' for split in splits), \n",
    "    'columns:', *(f'    {i}. {c}' for i, c in enumerate(dfs['train'].columns)), \n",
    "    sep='\\n',\n",
    ")"
   ]
  },
  {
   "cell_type": "code",
   "execution_count": 3,
   "metadata": {},
   "outputs": [
    {
     "name": "stdout",
     "output_type": "stream",
     "text": [
      "train_df.shape = (6420, 20)\n",
      "val_df.shape = (2140, 20)\n",
      "test_df.shape = (2140, 20)\n",
      "columns:\n",
      "    0. segment\n",
      "    1. wps\n",
      "    2. allnone\n",
      "    3. cause\n",
      "    4. discrep\n",
      "    5. certitude\n",
      "    6. tone_pos\n",
      "    7. tone_neg\n",
      "    8. swear\n",
      "    9. perception\n",
      "    10. motion\n",
      "    11. space\n",
      "    12. auditory\n",
      "    13. feeling\n",
      "    14. conversation\n",
      "    15. netspeak\n",
      "    16. assent\n",
      "    17. qmark\n",
      "    18. exclam\n",
      "    19. label\n"
     ]
    }
   ],
   "source": [
    "for split in splits:\n",
    "    dfs[split] = dfs[split].drop(['tweet', 'Segment'], axis=1)\n",
    "    dfs[split].label = dfs[split].label.map({'fake': 0, 'real': 1})\n",
    "    dfs[split] = dfs[split].rename(columns={x: x.lower() for x in dfs[split].columns})\n",
    "    columns = dfs[split].columns.tolist()\n",
    "    dfs[split] = dfs[split][columns[1:]+[columns[0]]]\n",
    "\n",
    "columns = dfs['train'].columns.tolist()\n",
    "print(\n",
    "    *(f'{split}_df.shape = {dfs[split].shape}' for split in splits), \n",
    "    'columns:', *(f'    {i}. {c}' for i, c in enumerate(columns)), \n",
    "    sep='\\n',\n",
    ")"
   ]
  },
  {
   "cell_type": "code",
   "execution_count": 20,
   "metadata": {},
   "outputs": [],
   "source": [
    "def grid_search(model, param_grid):\n",
    "\n",
    "    clf = GridSearchCV(estimator=model, param_grid=param_grid, scoring='accuracy', cv=3,)\n",
    "\n",
    "    clf.fit(dfs['train'].iloc[:, :-1], dfs['train'].iloc[:, -1],)\n",
    "    print('Best parameters:', *(f'    {k}: {v}' for k, v in clf.best_params_.items()), sep='\\n',)\n",
    "\n",
    "    print(f\"\\nTraining accuracy: {100 * clf.score(dfs['train'].iloc[:, :-1], dfs['train'].iloc[:, -1]):.3f}%\")\n",
    "    print(f\"Validation accuracy: {100 * clf.score(dfs['val'].iloc[:, :-1], dfs['val'].iloc[:, -1]):.3f}%\")\n",
    "\n",
    "    return clf"
   ]
  },
  {
   "cell_type": "code",
   "execution_count": 30,
   "metadata": {},
   "outputs": [
    {
     "name": "stdout",
     "output_type": "stream",
     "text": [
      "Best parameters:\n",
      "    C: 100\n",
      "    kernel: rbf\n",
      "\n",
      "Training accuracy: 82.726%\n",
      "Validation accuracy: 79.766%\n"
     ]
    }
   ],
   "source": [
    "model = SVC()\n",
    "param_grid = {\n",
    "    'C': (1, 10, 100,),\n",
    "    'kernel': ('poly', 'rbf',),\n",
    "}\n",
    "\n",
    "clf = grid_search(model=model, param_grid=param_grid)"
   ]
  },
  {
   "cell_type": "code",
   "execution_count": 21,
   "metadata": {},
   "outputs": [
    {
     "name": "stdout",
     "output_type": "stream",
     "text": [
      "Best parameters:\n",
      "    criterion: entropy\n",
      "    max_depth: 8\n",
      "\n",
      "Training accuracy: 83.255%\n",
      "Validation accuracy: 79.393%\n"
     ]
    }
   ],
   "source": [
    "model = DecisionTreeClassifier(splitter='best')\n",
    "param_grid = {\n",
    "    'criterion': ('gini', 'entropy',),\n",
    "    'max_depth': (5, 6, 7, 8, 9,),\n",
    "}\n",
    "\n",
    "clf = grid_search(model=model, param_grid=param_grid)"
   ]
  },
  {
   "cell_type": "code",
   "execution_count": 23,
   "metadata": {},
   "outputs": [
    {
     "name": "stdout",
     "output_type": "stream",
     "text": [
      "Training accuracy: 70.950%\n",
      "Validation accuracy: 71.402%\n",
      "\n",
      "|--- conversation <= 1.60\n",
      "|   |--- tone_pos <= 1.90\n",
      "|   |   |--- class: fake\n",
      "|   |--- tone_pos >  1.90\n",
      "|   |   |--- class: fake\n",
      "|--- conversation >  1.60\n",
      "|   |--- tone_neg <= 4.71\n",
      "|   |   |--- class: real\n",
      "|   |--- tone_neg >  4.71\n",
      "|   |   |--- class: real\n",
      "\n"
     ]
    },
    {
     "data": {
      "image/png": "[encoded data removed]",
      "text/plain": [
       "<Figure size 800x600 with 1 Axes>"
      ]
     },
     "metadata": {},
     "output_type": "display_data"
    }
   ],
   "source": [
    "model.set_params(criterion='entropy', max_depth=2)\n",
    "model.fit(dfs['train'].iloc[:, :-1], dfs['train'].iloc[:, -1],)\n",
    "\n",
    "print(f\"Training accuracy: {100 * accuracy_score(model.predict(dfs['train'].iloc[:, :-1]), dfs['train'].iloc[:, -1]):.3f}%\")\n",
    "print(f\"Validation accuracy: {100 * accuracy_score(model.predict(dfs['val'].iloc[:, :-1]), dfs['val'].iloc[:, -1]):.3f}%\\n\")\n",
    "\n",
    "print(export_text(model, feature_names=columns[:-1], class_names=['fake', 'real']))\n",
    "\n",
    "fig = plt.figure(figsize=(8, 6))\n",
    "_ = plot_tree(model, feature_names=columns[:-1], class_names=['fake', 'real'], filled=True)"
   ]
  },
  {
   "cell_type": "code",
   "execution_count": 24,
   "metadata": {},
   "outputs": [
    {
     "name": "stdout",
     "output_type": "stream",
     "text": [
      "Best parameters:\n",
      "    n_estimators: 100\n",
      "\n",
      "Training accuracy: 98.333%\n",
      "Validation accuracy: 81.121%\n"
     ]
    }
   ],
   "source": [
    "model = RandomForestClassifier(criterion='entropy')\n",
    "param_grid = {\n",
    "    'n_estimators': (50, 100, 150, 200,),\n",
    "}\n",
    "\n",
    "clf = grid_search(model=model, param_grid=param_grid)"
   ]
  },
  {
   "cell_type": "code",
   "execution_count": 26,
   "metadata": {},
   "outputs": [
    {
     "name": "stdout",
     "output_type": "stream",
     "text": [
      "Best parameters:\n",
      "    booster: gbtree\n",
      "\n",
      "Training accuracy: 92.539%\n",
      "Validation accuracy: 80.935%\n"
     ]
    }
   ],
   "source": [
    "model = XGBClassifier()\n",
    "param_grid = {\n",
    "    'booster': ('gbtree', 'gblinear',),\n",
    "}\n",
    "\n",
    "clf = grid_search(model=model, param_grid=param_grid)"
   ]
  },
  {
   "cell_type": "code",
   "execution_count": 13,
   "metadata": {},
   "outputs": [],
   "source": [
    "import numpy as np\n",
    "import torch\n",
    "from torch.utils.data import default_collate, TensorDataset, DataLoader\n",
    "from torch.nn import Module, ModuleList, Linear, GELU, Dropout, BCELoss\n",
    "from torch.optim import AdamW\n",
    "from torchmetrics import Accuracy, F1Score"
   ]
  },
  {
   "cell_type": "code",
   "execution_count": 14,
   "metadata": {},
   "outputs": [],
   "source": [
    "def normalize(X_train, X_val, eps=1e-6):\n",
    "\n",
    "    mean, std = np.mean(X_train, axis=0), np.std(X_train, axis=0)\n",
    "    X_train = (X_train-mean) / (std+eps)\n",
    "    X_val = (X_val-mean) / (std+eps)\n",
    "\n",
    "    return X_train, X_val"
   ]
  },
  {
   "cell_type": "code",
   "execution_count": 15,
   "metadata": {},
   "outputs": [],
   "source": [
    "X_train, y_train = dfs['train'].iloc[:, :-1].values, dfs['train'].iloc[:, -1].values\n",
    "X_val, y_val = dfs['val'].iloc[:, :-1].values, dfs['val'].iloc[:, -1].values\n",
    "\n",
    "X_train, X_val = normalize(X_train, X_val)\n",
    "\n",
    "train_dataset = TensorDataset(torch.from_numpy(X_train).float(), torch.from_numpy(y_train))\n",
    "val_dataset = TensorDataset(torch.from_numpy(X_val).float(), torch.from_numpy(y_val))\n",
    "\n",
    "train_loader = DataLoader(train_dataset, batch_size=16, collate_fn=default_collate, shuffle=True)\n",
    "val_loader = DataLoader(val_dataset, batch_size=16, collate_fn=default_collate, shuffle=True)"
   ]
  },
  {
   "cell_type": "code",
   "execution_count": 18,
   "metadata": {},
   "outputs": [],
   "source": [
    "class Model(Module):\n",
    "\n",
    "    def __init__(self, input_shape=19, hidden_size=128, layers=4, dropout=0.1):\n",
    "\n",
    "        super(Model, self).__init__()\n",
    "\n",
    "        dense_layers = list()\n",
    "        for in_features, out_features in zip([input_shape]+[hidden_size]*(layers-1), [hidden_size]*(layers-1)+[1]):\n",
    "            dense_layer = Linear(in_features=in_features, out_features=out_features, bias=True)\n",
    "            dense_layers.append(dense_layer)\n",
    "\n",
    "        self.dense_layers = ModuleList(dense_layers)\n",
    "        self.activation = GELU()\n",
    "        self.dropout = Dropout(p=dropout, inplace=False)\n",
    "\n",
    "        self.loss = BCELoss()\n",
    "\n",
    "    def forward(self, x, y):\n",
    "\n",
    "        for dense_layer in self.dense_layers[:-1]:\n",
    "            x = dense_layer(x)\n",
    "            x = self.activation(x)\n",
    "            x = self.dropout(x)\n",
    "        \n",
    "        logits = self.dense_layers[-1](x).squeeze(-1)\n",
    "        probs = torch.sigmoid(logits)\n",
    "        preds = torch.round(probs).detach().cpu()\n",
    "        loss = self.loss(probs, y.float())\n",
    "\n",
    "        return preds, loss\n",
    "    \n",
    "model = Model(input_shape=X_train.shape[-1], hidden_size=128, layers=4, dropout=0.2)\n",
    "optimizer = AdamW(model.parameters(), lr=5e-4)"
   ]
  },
  {
   "cell_type": "code",
   "execution_count": 19,
   "metadata": {},
   "outputs": [
    {
     "name": "stdout",
     "output_type": "stream",
     "text": [
      "Epoch 10\n",
      "Training: Accuracy = 78.4268%, F1-Score = 80.1320%, Loss = 0.459684\n",
      "Validation: Accuracy = 78.4112%, F1-Score = 79.4667%, Loss = 0.453404\n",
      "\n",
      "Epoch 20\n",
      "Training: Accuracy = 80.0312%, F1-Score = 81.5167%, Loss = 0.430629\n",
      "Validation: Accuracy = 79.8598%, F1-Score = 81.3984%, Loss = 0.442655\n",
      "\n",
      "Epoch 30\n",
      "Training: Accuracy = 81.1682%, F1-Score = 82.5617%, Loss = 0.414350\n",
      "Validation: Accuracy = 80.2336%, F1-Score = 81.5847%, Loss = 0.441176\n",
      "\n",
      "Epoch 40\n",
      "Training: Accuracy = 82.1495%, F1-Score = 83.3913%, Loss = 0.399478\n",
      "Validation: Accuracy = 80.0935%, F1-Score = 81.1170%, Loss = 0.442767\n",
      "\n",
      "Epoch 50\n",
      "Training: Accuracy = 82.8816%, F1-Score = 84.0470%, Loss = 0.385640\n",
      "Validation: Accuracy = 80.3738%, F1-Score = 81.5303%, Loss = 0.450424\n",
      "\n",
      "Epoch 60\n",
      "Training: Accuracy = 82.9751%, F1-Score = 84.1157%, Loss = 0.380224\n",
      "Validation: Accuracy = 80.6075%, F1-Score = 81.6290%, Loss = 0.445891\n",
      "\n",
      "Epoch 70\n",
      "Training: Accuracy = 83.7383%, F1-Score = 84.7324%, Loss = 0.363455\n",
      "Validation: Accuracy = 80.8411%, F1-Score = 82.0804%, Loss = 0.454815\n",
      "\n",
      "Epoch 80\n",
      "Training: Accuracy = 84.2056%, F1-Score = 85.2488%, Loss = 0.352743\n",
      "Validation: Accuracy = 81.0280%, F1-Score = 82.3171%, Loss = 0.464250\n",
      "\n",
      "Epoch 90\n",
      "Training: Accuracy = 84.7819%, F1-Score = 85.7932%, Loss = 0.342643\n",
      "Validation: Accuracy = 80.8411%, F1-Score = 81.7778%, Loss = 0.480581\n",
      "\n",
      "Epoch 100\n",
      "Training: Accuracy = 85.5296%, F1-Score = 86.5069%, Loss = 0.329888\n",
      "Validation: Accuracy = 80.6542%, F1-Score = 81.6976%, Loss = 0.489821\n",
      "\n"
     ]
    }
   ],
   "source": [
    "accuracy, f1_score = Accuracy(task='binary'), F1Score(task='binary')\n",
    "\n",
    "for epoch in range(1, 101):\n",
    "\n",
    "    model.train()\n",
    "    epoch_labels, epoch_preds, epoch_losses = list(), list(), list()\n",
    "    for features, labels in train_loader:\n",
    "        optimizer.zero_grad()\n",
    "        preds, loss = model(features, labels)\n",
    "        loss.backward()\n",
    "        optimizer.step()\n",
    "        epoch_labels.append(labels.detach().cpu()); epoch_preds.append(preds); epoch_losses.append(loss.item())\n",
    "    epoch_labels = torch.cat(epoch_labels); epoch_preds = torch.cat(epoch_preds); mean_loss = np.mean(epoch_losses)\n",
    "\n",
    "    if epoch%10 == 0:\n",
    "        print(f'Epoch {epoch}\\nTraining: Accuracy = {100*accuracy(epoch_preds, epoch_labels).item():.4f}%, F1-Score = {100*f1_score(epoch_preds, epoch_labels).item():.4f}%, Loss = {mean_loss:.6f}')\n",
    "        model.eval()\n",
    "        epoch_labels, epoch_preds, epoch_losses = list(), list(), list()\n",
    "        with torch.no_grad():\n",
    "            for features, labels in val_loader:\n",
    "                preds, loss = model(features, labels)\n",
    "                epoch_labels.append(labels.detach().cpu()); epoch_preds.append(preds); epoch_losses.append(loss.item())\n",
    "        epoch_labels = torch.cat(epoch_labels); epoch_preds = torch.cat(epoch_preds); mean_loss = np.mean(epoch_losses)\n",
    "        print(f'Validation: Accuracy = {100*accuracy(epoch_preds, epoch_labels).item():.4f}%, F1-Score = {100*f1_score(epoch_preds, epoch_labels).item():.4f}%, Loss = {mean_loss:.6f}\\n')"
   ]
  },
  {
   "cell_type": "code",
   "execution_count": 21,
   "metadata": {},
   "outputs": [],
   "source": [
    "from tqdm import tqdm\n",
    "\n",
    "import torch\n",
    "from transformers import BertForSequenceClassification, BertTokenizerFast\n",
    "from torch.utils.data import TensorDataset, DataLoader\n",
    "\n",
    "from data_classes import ConstraintCovid\n",
    "from data_classes.preprocess import PreProcessor\n",
    "from utils.tokenizer import tokenize"
   ]
  },
  {
   "cell_type": "code",
   "execution_count": 22,
   "metadata": {},
   "outputs": [],
   "source": [
    "device = torch.device('cuda:0')\n",
    "preprocessor = PreProcessor()\n",
    "datasets = ConstraintCovid(root='datasets/aaai-constraint-covid',)\n",
    "\n",
    "datasets.apply(\n",
    "    func=preprocessor.preprocess, \n",
    "    splits=['train'], \n",
    "    col='tweet', \n",
    "    new_col='tweet'\n",
    ")"
   ]
  },
  {
   "cell_type": "code",
   "execution_count": 23,
   "metadata": {},
   "outputs": [
    {
     "name": "stderr",
     "output_type": "stream",
     "text": [
      "Some weights of BertForSequenceClassification were not initialized from the model checkpoint at digitalepidemiologylab/covid-twitter-bert-v2 and are newly initialized: ['classifier.weight', 'classifier.bias']\n",
      "You should probably TRAIN this model on a down-stream task to be able to use it for predictions and inference.\n"
     ]
    }
   ],
   "source": [
    "model = BertForSequenceClassification.from_pretrained('digitalepidemiologylab/covid-twitter-bert-v2')\n",
    "model.load_state_dict(torch.load('results/aaai-constraint-covid/CT-BERT/ckpt4800.pth'))\n",
    "\n",
    "tokenizer = BertTokenizerFast.from_pretrained('digitalepidemiologylab/covid-twitter-bert-v2')"
   ]
  },
  {
   "cell_type": "code",
   "execution_count": 24,
   "metadata": {},
   "outputs": [
    {
     "name": "stderr",
     "output_type": "stream",
     "text": [
      "100%|██████████| 6420/6420 [00:00<00:00, 6648.47it/s]\n"
     ]
    }
   ],
   "source": [
    "encoded_inputs, _, _ = tokenize(\n",
    "    tokenizer,\n",
    "    datasets,\n",
    "    splits=['train'],\n",
    "    max_length=128,\n",
    "    add_dense=False,\n",
    ")\n",
    "\n",
    "input_ids, attention_masks = encoded_inputs['train']['input_ids'], encoded_inputs['train']['attention_mask']\n",
    "data_loader = DataLoader(TensorDataset(input_ids, attention_masks), batch_size=32, shuffle=False)"
   ]
  },
  {
   "cell_type": "code",
   "execution_count": 25,
   "metadata": {},
   "outputs": [
    {
     "name": "stderr",
     "output_type": "stream",
     "text": [
      "100%|██████████| 201/201 [00:31<00:00,  6.42it/s]\n"
     ]
    }
   ],
   "source": [
    "model = model.to(device)\n",
    "\n",
    "with torch.no_grad():\n",
    "    model.eval()\n",
    "    probs = list()\n",
    "    for batch_input_ids, batch_attention_masks in tqdm(data_loader):\n",
    "        logits = model(input_ids=batch_input_ids.to(device), attention_mask=batch_attention_masks.to(device))[0]\n",
    "        logits = logits[:, 1]\n",
    "        probs.append(torch.sigmoid(logits))\n",
    "\n",
    "probs = torch.cat(probs)"
   ]
  }
 ],
 "metadata": {
  "kernelspec": {
   "display_name": "fakenews",
   "language": "python",
   "name": "python3"
  },
  "language_info": {
   "codemirror_mode": {
    "name": "ipython",
    "version": 3
   },
   "file_extension": ".py",
   "mimetype": "text/x-python",
   "name": "python",
   "nbconvert_exporter": "python",
   "pygments_lexer": "ipython3",
   "version": "3.8.17"
  },
  "orig_nbformat": 4
 },
 "nbformat": 4,
 "nbformat_minor": 2
}
